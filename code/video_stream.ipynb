{
 "cells": [
  {
   "cell_type": "code",
   "execution_count": null,
   "metadata": {},
   "outputs": [],
   "source": [
    "import cv2 as cv\n",
    "\n",
    "\n",
    "# Open the video file\n",
    "capture = cv.VideoCapture(0)\n",
    "#capture = cv.VideoCapture(r\"/content/tracking.mp4\")\n",
    "\n",
    "while True:\n",
    "    # Read each frame\n",
    "    ret, frame = capture.read()\n",
    "\n",
    "    # If there's no frame left, break the loop\n",
    "    if not ret:\n",
    "        break\n",
    "    \n",
    "    # Extract color channels\n",
    "    blue_channel = frame[:, :, 0]\n",
    "    green_channel = frame[:, :, 1]\n",
    "    red_channel = frame[:, :, 2]\n",
    "\n",
    "    # Show the original frame and its channels\n",
    "    print(\"Original Frame:\")\n",
    "    cv.imshow(\"Frame\",frame)\n",
    "\n",
    "    print(\"Blue Channel:\")\n",
    "    cv.imshow(\"blue\",blue_channel)\n",
    "\n",
    "    print(\"Green Channel:\")\n",
    "    cv.imshow(\"green\",green_channel)\n",
    "\n",
    "    print(\"Red Channel:\")\n",
    "    cv.imshow(\"red\",red_channel)\n",
    "\n",
    "    # Wait for a short duration before displaying the next frame\n",
    "    key = cv.waitKey(1)\n",
    "    if (key == 32):\n",
    "      break\n",
    "        \n",
    "\n",
    "# Release video capture and destroy windows\n",
    "capture.release()\n",
    "cv.destroyAllWindows() \n"
   ]
  }
 ],
 "metadata": {
  "language_info": {
   "name": "python"
  }
 },
 "nbformat": 4,
 "nbformat_minor": 2
}
